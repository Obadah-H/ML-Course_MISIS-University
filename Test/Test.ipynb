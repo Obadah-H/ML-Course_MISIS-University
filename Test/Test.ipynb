{
 "cells": [
  {
   "cell_type": "code",
   "execution_count": 2,
   "metadata": {},
   "outputs": [
    {
     "name": "stdout",
     "output_type": "stream",
     "text": [
      "1670\n"
     ]
    }
   ],
   "source": [
    "#Read data for training\n",
    "import csv\n",
    "import numpy as np\n",
    "import matplotlib.pyplot as plt\n",
    "import matplotlib.pyplot as plt\n",
    "from sklearn.model_selection import train_test_split\n",
    "num_accepted = (4/3)*1252\n",
    "X=[]\n",
    "y=[]\n",
    "max_lines=178678\n",
    "with open('train_data.csv') as csv_file:\n",
    "    csv_reader = csv.reader(csv_file, delimiter=';')\n",
    "    line_count = 0\n",
    "    for row in csv_reader:\n",
    "        if line_count == 0:\n",
    "            line_count += 1\n",
    "        else:\n",
    "            if ((line_count> (max_lines-num_accepted))):\n",
    "                y.append(int(row[1]))\n",
    "                f=row[2:-1]\n",
    "                X.append([float(i) for i in f])\n",
    "            line_count += 1\n",
    "from sklearn.utils import shuffle\n",
    "randomness=100   \n",
    "X_train_circles, X_test_circles, y_train_circles, y_test_circles = train_test_split(X, y, test_size=0.2)\n",
    "print(len(X))"
   ]
  },
  {
   "cell_type": "code",
   "execution_count": 53,
   "metadata": {},
   "outputs": [],
   "source": [
    "def calc_vars(yy):\n",
    "    TP=0\n",
    "    TN=0\n",
    "    FP=0\n",
    "    FN=0\n",
    "    betta=1\n",
    "    for i in range(len(yy)):\n",
    "        if(yy[i]==y_test_circles[i] and yy[i]==1):\n",
    "            TP+=1\n",
    "        elif yy[i]==y_test_circles[i] and yy[i]!=1:\n",
    "            TN+=1\n",
    "        elif yy[i]!=y_test_circles[i] and yy[i]==1:\n",
    "            FN+=1\n",
    "        elif yy[i]!=y_test_circles[i] and yy[i]!=1:\n",
    "            FP+=1\n",
    "    ac = (TP+TN)/(TP+TN+FP+FN) * 100\n",
    "    if (TP+FP==0):\n",
    "        Perc=0\n",
    "    else:\n",
    "        Perc=TP/(TP+FP)\n",
    "    if (TP+FN==0):\n",
    "        Recall=0\n",
    "    else:\n",
    "        Recall=TP/(TP+FN)\n",
    "    if ((betta**2)*Perc+Recall==0):\n",
    "        Fbetta=0\n",
    "    else:\n",
    "        Fbetta=(1+betta**2)*Perc*Recall/((betta**2)*Perc+Recall)\n",
    "    if (TP+FN==0):\n",
    "        TPR=0\n",
    "    else:\n",
    "        TPR=TP/(TP+FN)\n",
    "    if (FP+TN==0):\n",
    "        FPR=0\n",
    "    else:\n",
    "        FPR=FP/(FP+TN)\n",
    "    #ROC\n",
    "    AUC=0.5*(TPR*FPR)+TPR*(1-FPR)+0.5*(1-FPR)*(1-TPR)\n",
    "    print(\"Ac=\",ac,\"Perc=\",Perc,\"Recall=\",Recall,\"Fbetta=\",Fbetta,\"AUC=\",AUC)\n",
    "    ROC = [FPR,TPR]\n",
    "    plt.plot([i for i in [0,ROC[0],1]] ,[point for point in [0,ROC[1],1]],[i for i in [0,ROC[0],1]] ,[point for point in [0,ROC[1],1]],'ro')\n",
    "    plt.savefig(\"l1.png\")\n",
    "    plt.show()\n"
   ]
  },
  {
   "cell_type": "code",
   "execution_count": 54,
   "metadata": {},
   "outputs": [
    {
     "name": "stdout",
     "output_type": "stream",
     "text": [
      "Ac= 73.65269461077844 Perc= 1.0 Recall= 0.7365269461077845 Fbetta= 0.8482758620689654 AUC= 0.8682634730538923\n"
     ]
    },
    {
     "data": {
      "image/png": "[encoded data removed]",
      "text/plain": [
       "<Figure size 432x288 with 1 Axes>"
      ]
     },
     "metadata": {
      "needs_background": "light"
     },
     "output_type": "display_data"
    }
   ],
   "source": [
    "from sklearn.datasets import load_digits\n",
    "from sklearn.linear_model import Perceptron\n",
    "from sklearn.neural_network import MLPClassifier\n",
    "clf = MLPClassifier(solver='lbfgs', alpha=1e-5, hidden_layer_sizes=(15,9,5), random_state=1)\n",
    "clf.fit(X_train_circles, y_train_circles)  \n",
    "yhat = clf.predict(X_test_circles)\n",
    "calc_vars(yhat)"
   ]
  },
  {
   "cell_type": "code",
   "execution_count": 55,
   "metadata": {
    "scrolled": false
   },
   "outputs": [
    {
     "name": "stdout",
     "output_type": "stream",
     "text": [
      "Ac= 94.01197604790418 Perc= 0.975609756097561 Recall= 0.9448818897637795 Fbetta= 0.96 AUC= 0.9349409448818898\n"
     ]
    },
    {
     "data": {
      "image/png": "[encoded data removed]",
      "text/plain": [
       "<Figure size 432x288 with 1 Axes>"
      ]
     },
     "metadata": {
      "needs_background": "light"
     },
     "output_type": "display_data"
    }
   ],
   "source": [
    "from sklearn.ensemble import RandomForestClassifier\n",
    "from sklearn.datasets import make_classification\n",
    "\n",
    "clf = RandomForestClassifier(n_estimators=33,random_state=1)\n",
    "clf.fit(X_train_circles, y_train_circles)\n",
    "yhat = clf.predict(X_test_circles)\n",
    "calc_vars(yhat)\n"
   ]
  },
  {
   "cell_type": "code",
   "execution_count": 56,
   "metadata": {},
   "outputs": [
    {
     "name": "stdout",
     "output_type": "stream",
     "text": [
      "Ac= 94.61077844311377 Perc= 0.967479674796748 Recall= 0.9596774193548387 Fbetta= 0.9635627530364373 AUC= 0.9333270817704427\n"
     ]
    },
    {
     "data": {
      "image/png": "[encoded data removed]",
      "text/plain": [
       "<Figure size 432x288 with 1 Axes>"
      ]
     },
     "metadata": {
      "needs_background": "light"
     },
     "output_type": "display_data"
    }
   ],
   "source": [
    "#Bagging\n",
    "from sklearn.ensemble import BaggingClassifier\n",
    "max_ = 0\n",
    "ind=0\n",
    "\n",
    "clf = BaggingClassifier(n_estimators=27, warm_start=True, random_state=83)\n",
    "clf.fit(X_train_circles, y_train_circles)\n",
    "\n",
    "y_pred = clf.predict(X_test_circles)\n",
    "calc_vars(y_pred)"
   ]
  },
  {
   "cell_type": "code",
   "execution_count": 57,
   "metadata": {},
   "outputs": [],
   "source": [
    "testing_X=[]\n",
    "line_count = 0\n",
    "with open('test_data.csv') as csv_file:\n",
    "    csv_reader = csv.reader(csv_file, delimiter=';')\n",
    "    for row in csv_reader:\n",
    "        if line_count == 0:\n",
    "            line_count += 1\n",
    "        else:\n",
    "            f=row[1:-1]\n",
    "            testing_X.append([float(i) for i in f])\n",
    "            line_count += 1\n",
    "y_out = clf.predict(testing_X)"
   ]
  },
  {
   "cell_type": "code",
   "execution_count": 58,
   "metadata": {},
   "outputs": [],
   "source": [
    "y_out = y_out.astype(int)\n",
    "np.savetxt(\"predictions.csv\",y_out, fmt='%i')"
   ]
  },
  {
   "cell_type": "code",
   "execution_count": null,
   "metadata": {},
   "outputs": [],
   "source": []
  }
 ],
 "metadata": {
  "kernelspec": {
   "display_name": "Python 3",
   "language": "python",
   "name": "python3"
  },
  "language_info": {
   "codemirror_mode": {
    "name": "ipython",
    "version": 3
   },
   "file_extension": ".py",
   "mimetype": "text/x-python",
   "name": "python",
   "nbconvert_exporter": "python",
   "pygments_lexer": "ipython3",
   "version": "3.6.6"
  }
 },
 "nbformat": 4,
 "nbformat_minor": 2
}
